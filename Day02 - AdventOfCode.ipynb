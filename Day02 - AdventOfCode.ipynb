{
 "cells": [
  {
   "cell_type": "code",
   "execution_count": 1,
   "id": "e87e18fd",
   "metadata": {},
   "outputs": [],
   "source": [
    "with open('Input02') as f:\n",
    "    data = f.read()"
   ]
  },
  {
   "cell_type": "code",
   "execution_count": 2,
   "id": "86f3e96a",
   "metadata": {},
   "outputs": [],
   "source": [
    "matchs = data.split('\\n')"
   ]
  },
  {
   "cell_type": "code",
   "execution_count": 3,
   "id": "d2287c85",
   "metadata": {},
   "outputs": [],
   "source": [
    "def win(x):\n",
    "    x.append(6)\n",
    "def lose(x):\n",
    "    x.append(0)\n",
    "def nul(x):\n",
    "    x.append(3)"
   ]
  },
  {
   "cell_type": "code",
   "execution_count": 4,
   "id": "cc6fc99c",
   "metadata": {},
   "outputs": [],
   "source": [
    "scores = []\n",
    "matchs.remove('')\n",
    "for match in matchs:\n",
    "    \n",
    "    if match[0] == 'A':\n",
    "        if match[2] == 'X':\n",
    "            scores.append(1)\n",
    "            nul(scores)\n",
    "        elif match[2] == 'Y':\n",
    "            scores.append(2)\n",
    "            win(scores)\n",
    "        elif match[2] == 'Z':\n",
    "            scores.append(3)\n",
    "            \n",
    "    elif match[0]== 'B':\n",
    "        if match[2] == 'X':\n",
    "            scores.append(1)\n",
    "        elif match[2] == 'Y':\n",
    "            scores.append(2)\n",
    "            nul(scores)\n",
    "        elif match[2] == 'Z':\n",
    "            scores.append(3)\n",
    "            win(scores)\n",
    "            \n",
    "    elif match[0] == 'C':\n",
    "        if match[2] == 'X':\n",
    "            scores.append(1)\n",
    "            win(scores)\n",
    "        elif match[2] == 'Y':\n",
    "            scores.append(2)\n",
    "        elif match[2] == 'Z':\n",
    "            scores.append(3)\n",
    "            nul(scores)"
   ]
  },
  {
   "cell_type": "code",
   "execution_count": 5,
   "id": "81b02c22",
   "metadata": {},
   "outputs": [
    {
     "data": {
      "text/plain": [
       "12458"
      ]
     },
     "execution_count": 5,
     "metadata": {},
     "output_type": "execute_result"
    }
   ],
   "source": [
    "sum(scores)"
   ]
  },
  {
   "cell_type": "code",
   "execution_count": 6,
   "id": "4b3a9cd7",
   "metadata": {},
   "outputs": [],
   "source": [
    "scores = []\n",
    "\n",
    "for match in matchs:\n",
    "    \n",
    "    if match[0] == 'A':\n",
    "        if match[2] == 'X':\n",
    "            scores.append(3)\n",
    "        elif match[2] == 'Y':\n",
    "            scores.append(1)\n",
    "            nul(scores)\n",
    "        elif match[2] == 'Z':\n",
    "            scores.append(2)\n",
    "            win(scores)\n",
    "            \n",
    "    elif match[0]== 'B':\n",
    "        if match[2] == 'X':\n",
    "            scores.append(1)\n",
    "        elif match[2] == 'Y':\n",
    "            scores.append(2)\n",
    "            nul(scores)\n",
    "        elif match[2] == 'Z':\n",
    "            scores.append(3)\n",
    "            win(scores)\n",
    "            \n",
    "    elif match[0] == 'C':\n",
    "        if match[2] == 'X':\n",
    "            scores.append(2)\n",
    "        elif match[2] == 'Y':\n",
    "            scores.append(3)\n",
    "            nul(scores)\n",
    "        elif match[2] == 'Z':\n",
    "            scores.append(1)\n",
    "            win(scores)"
   ]
  },
  {
   "cell_type": "code",
   "execution_count": 7,
   "id": "890a1c6b",
   "metadata": {},
   "outputs": [
    {
     "data": {
      "text/plain": [
       "12683"
      ]
     },
     "execution_count": 7,
     "metadata": {},
     "output_type": "execute_result"
    }
   ],
   "source": [
    "sum(scores)"
   ]
  }
 ],
 "metadata": {
  "kernelspec": {
   "display_name": "Python 3 (ipykernel)",
   "language": "python",
   "name": "python3"
  },
  "language_info": {
   "codemirror_mode": {
    "name": "ipython",
    "version": 3
   },
   "file_extension": ".py",
   "mimetype": "text/x-python",
   "name": "python",
   "nbconvert_exporter": "python",
   "pygments_lexer": "ipython3",
   "version": "3.10.9"
  }
 },
 "nbformat": 4,
 "nbformat_minor": 5
}
