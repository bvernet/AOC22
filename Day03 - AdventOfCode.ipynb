{
 "cells": [
  {
   "cell_type": "code",
   "execution_count": 1,
   "id": "479ff3a6",
   "metadata": {},
   "outputs": [],
   "source": [
    "with open('Input03') as f:\n",
    "    data = f.read()"
   ]
  },
  {
   "cell_type": "code",
   "execution_count": 2,
   "id": "fba72402",
   "metadata": {},
   "outputs": [],
   "source": [
    "sacs = data.split('\\n')\n",
    "sacs.remove('')"
   ]
  },
  {
   "cell_type": "code",
   "execution_count": 3,
   "id": "9e7bc2fc",
   "metadata": {},
   "outputs": [],
   "source": [
    "def half_string(string):\n",
    "    first_half = ''\n",
    "    second_half = ''\n",
    "    for i in range(len(string)):\n",
    "        if i <= (len(string)/2)-1:\n",
    "            first_half += string[i]\n",
    "        else:\n",
    "            second_half += string[i]\n",
    "    return first_half, second_half"
   ]
  },
  {
   "cell_type": "code",
   "execution_count": 4,
   "id": "86feab78",
   "metadata": {},
   "outputs": [],
   "source": [
    "affaires =[]\n",
    "for i in sacs:\n",
    "    affaires.append(half_string(i))"
   ]
  },
  {
   "cell_type": "code",
   "execution_count": 5,
   "id": "1d627f8f",
   "metadata": {},
   "outputs": [],
   "source": [
    "i = 0\n",
    "j = 0\n",
    "k = 0\n",
    "\n",
    "item = []\n",
    "same =''\n",
    "\n",
    "for i in range(len(affaires)):\n",
    "    for j in range(len(affaires[i][0])):\n",
    "        for k in range(len(affaires[i][1])):\n",
    "            if affaires[i][0][j] == affaires[i][1][k]:\n",
    "                same = affaires[i][0][j]  \n",
    "    item.append(same)\n"
   ]
  },
  {
   "cell_type": "code",
   "execution_count": 6,
   "id": "dfd67f4b",
   "metadata": {},
   "outputs": [],
   "source": [
    "def priorites(item):\n",
    "    priorities = []\n",
    "    alphabet = 'abcdefghijklmnopqrstuvwxyzABCDEFGHIJKLMNOPQRSTUVWXYZ'\n",
    "\n",
    "    for lettre in item:\n",
    "        priorities.append(alphabet.index(lettre)+1)\n",
    "    return(sum(priorities))\n"
   ]
  },
  {
   "cell_type": "code",
   "execution_count": 7,
   "id": "3141ac3a",
   "metadata": {},
   "outputs": [
    {
     "data": {
      "text/plain": [
       "7716"
      ]
     },
     "execution_count": 7,
     "metadata": {},
     "output_type": "execute_result"
    }
   ],
   "source": [
    "priorites(item) #réponse partie 1"
   ]
  },
  {
   "cell_type": "code",
   "execution_count": 8,
   "id": "35c83925",
   "metadata": {
    "scrolled": true
   },
   "outputs": [],
   "source": [
    "item = []\n",
    "\n",
    "for n in range(0, len(sacs)-2, 3):   \n",
    "    for char in sacs[n]:\n",
    "        if char in sacs[n+1] and char in sacs[n+2]:\n",
    "            item.append(char)\n",
    "            break"
   ]
  },
  {
   "cell_type": "code",
   "execution_count": 9,
   "id": "fbf1888d",
   "metadata": {},
   "outputs": [
    {
     "data": {
      "text/plain": [
       "2973"
      ]
     },
     "execution_count": 9,
     "metadata": {},
     "output_type": "execute_result"
    }
   ],
   "source": [
    "priorites(item) #réponse partie 2"
   ]
  }
 ],
 "metadata": {
  "kernelspec": {
   "display_name": "Python 3 (ipykernel)",
   "language": "python",
   "name": "python3"
  },
  "language_info": {
   "codemirror_mode": {
    "name": "ipython",
    "version": 3
   },
   "file_extension": ".py",
   "mimetype": "text/x-python",
   "name": "python",
   "nbconvert_exporter": "python",
   "pygments_lexer": "ipython3",
   "version": "3.10.9"
  }
 },
 "nbformat": 4,
 "nbformat_minor": 5
}
