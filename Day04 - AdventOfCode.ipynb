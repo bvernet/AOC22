{
 "cells": [
  {
   "cell_type": "code",
   "execution_count": 1,
   "id": "e0b810fc",
   "metadata": {},
   "outputs": [],
   "source": [
    "with open('Input04') as f:\n",
    "    data = f.read()"
   ]
  },
  {
   "cell_type": "code",
   "execution_count": 2,
   "id": "ae0d82c7",
   "metadata": {},
   "outputs": [],
   "source": [
    "pairs = data.split('\\n')\n",
    "pairs.remove('')"
   ]
  },
  {
   "cell_type": "code",
   "execution_count": 3,
   "id": "8eec509a",
   "metadata": {},
   "outputs": [],
   "source": [
    "paires = []\n",
    "for pair in pairs:\n",
    "    paires.append(pair.split(','))\n",
    "final = []\n",
    "for paire in paires:\n",
    "    for per in paire:\n",
    "        final.append([int(char) for char in per.split('-')])\n",
    "        "
   ]
  },
  {
   "cell_type": "code",
   "execution_count": 4,
   "id": "54eb19c8",
   "metadata": {},
   "outputs": [],
   "source": [
    "result = 0\n",
    "\n",
    "for n in range(0, len(final)-1, 2):\n",
    "\n",
    "        \n",
    "    nb1 = final[n][0]\n",
    "    nb2 = final[n][1]\n",
    "    nb3 = final[n+1][0]\n",
    "    nb4 = final[n+1][1]\n",
    "    \n",
    "    size1 = nb2-nb1\n",
    "    size2 = nb4 - nb3\n",
    "        \n",
    "    if nb1 <= nb3 and nb2 >= nb4 and size1 >= size2:\n",
    "        result += 1\n",
    "        \n",
    "    if nb1 >= nb3 and nb2 <= nb4 and size1 < size2:\n",
    "        result += 1\n",
    "    "
   ]
  },
  {
   "cell_type": "code",
   "execution_count": 5,
   "id": "b91d9c72",
   "metadata": {},
   "outputs": [
    {
     "data": {
      "text/plain": [
       "507"
      ]
     },
     "execution_count": 5,
     "metadata": {},
     "output_type": "execute_result"
    }
   ],
   "source": [
    "result #résultat partie 1"
   ]
  },
  {
   "cell_type": "code",
   "execution_count": 6,
   "id": "5f4a0d49",
   "metadata": {},
   "outputs": [],
   "source": [
    "result = 0\n",
    "\n",
    "for n in range(0, len(final)-1, 2):\n",
    "\n",
    "        \n",
    "    nb1 = final[n][0]\n",
    "    nb2 = final[n][1]\n",
    "    nb3 = final[n+1][0]\n",
    "    nb4 = final[n+1][1]\n",
    "    \n",
    "    if not(nb1 > nb4 or nb2 < nb3):\n",
    "        result += 1\n"
   ]
  },
  {
   "cell_type": "code",
   "execution_count": 7,
   "id": "a0bebd63",
   "metadata": {},
   "outputs": [
    {
     "data": {
      "text/plain": [
       "897"
      ]
     },
     "execution_count": 7,
     "metadata": {},
     "output_type": "execute_result"
    }
   ],
   "source": [
    "result #résultat partie 2"
   ]
  }
 ],
 "metadata": {
  "kernelspec": {
   "display_name": "Python 3 (ipykernel)",
   "language": "python",
   "name": "python3"
  },
  "language_info": {
   "codemirror_mode": {
    "name": "ipython",
    "version": 3
   },
   "file_extension": ".py",
   "mimetype": "text/x-python",
   "name": "python",
   "nbconvert_exporter": "python",
   "pygments_lexer": "ipython3",
   "version": "3.10.9"
  }
 },
 "nbformat": 4,
 "nbformat_minor": 5
}
