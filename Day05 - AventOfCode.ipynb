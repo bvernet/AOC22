{
 "cells": [
  {
   "cell_type": "code",
   "execution_count": 14,
   "id": "d63941b3",
   "metadata": {},
   "outputs": [],
   "source": [
    "import regex as re"
   ]
  },
  {
   "cell_type": "code",
   "execution_count": 15,
   "id": "8f1682b9",
   "metadata": {},
   "outputs": [],
   "source": [
    "with open('Input05') as f:\n",
    "    data = f.read()"
   ]
  },
  {
   "cell_type": "code",
   "execution_count": 16,
   "id": "fc7c660c",
   "metadata": {},
   "outputs": [],
   "source": [
    "first_part = data[slice(data.index('m'))]"
   ]
  },
  {
   "cell_type": "code",
   "execution_count": 17,
   "id": "c12d7a36",
   "metadata": {},
   "outputs": [],
   "source": [
    "first_part = first_part.split('\\n')\n"
   ]
  },
  {
   "cell_type": "code",
   "execution_count": 18,
   "id": "4ae861c5",
   "metadata": {},
   "outputs": [],
   "source": [
    "first_part.remove('')\n",
    "first_part.remove('')\n",
    "first_part.remove(' 1   2   3   4   5   6   7   8   9 ')"
   ]
  },
  {
   "cell_type": "code",
   "execution_count": 19,
   "id": "0eae3b67",
   "metadata": {
    "scrolled": true
   },
   "outputs": [],
   "source": [
    "stacks = []\n",
    "\n",
    "j = 1\n",
    "n = 0\n",
    "\n",
    "\n",
    "for i in range(9):\n",
    "    m = []\n",
    "    stacks.append(m)\n",
    "\n",
    "for ligne in first_part:\n",
    "    for i, char in enumerate(ligne):\n",
    "        if i == j:\n",
    "            if char != ' ':\n",
    "                stacks[n].append(char)\n",
    "            j += 4\n",
    "            n += 1 \n",
    "    j = 1\n",
    "    n = 0          "
   ]
  },
  {
   "cell_type": "code",
   "execution_count": 20,
   "id": "96ac3728",
   "metadata": {},
   "outputs": [],
   "source": [
    "second_part = data[slice(data.index('m'), len(data))]"
   ]
  },
  {
   "cell_type": "code",
   "execution_count": 21,
   "id": "7598b1c8",
   "metadata": {},
   "outputs": [],
   "source": [
    "moves = second_part.split('\\n')\n",
    "moves.remove('')"
   ]
  },
  {
   "cell_type": "code",
   "execution_count": 22,
   "id": "29955190",
   "metadata": {},
   "outputs": [],
   "source": [
    "instructions = []\n",
    "pattern = re.compile(r\"move (\\d+) from (\\d+) to (\\d+)\")\n",
    "\n",
    "\n",
    "for move in moves:\n",
    "    m = pattern.match(move)\n",
    "    instructions.append(m.groups())"
   ]
  },
  {
   "cell_type": "code",
   "execution_count": 10,
   "id": "cad5d513",
   "metadata": {},
   "outputs": [],
   "source": [
    "# Attention la première partie itère sur stacks et la deuxième aussi, ne pas les compiler en même temps...\n",
    "# Shallow and deep copy\n",
    "\n",
    "for inst in instructions:\n",
    "    \n",
    "    wieviel = int(inst[0])\n",
    "    von = int(inst[1])-1\n",
    "    zu = int(inst[2])-1\n",
    "    \n",
    "    for x in range(wieviel):\n",
    "        stacks[zu].insert(0, stacks[von][0])\n",
    "        stacks[von].remove(stacks[von][0])\n",
    "        "
   ]
  },
  {
   "cell_type": "code",
   "execution_count": 11,
   "id": "fc297220",
   "metadata": {},
   "outputs": [],
   "source": [
    "result = ''\n",
    "\n",
    "for stack in stacks1:\n",
    "    result += stack[0]"
   ]
  },
  {
   "cell_type": "code",
   "execution_count": 12,
   "id": "d239e135",
   "metadata": {},
   "outputs": [
    {
     "data": {
      "text/plain": [
       "'TLNGFGMFN'"
      ]
     },
     "execution_count": 12,
     "metadata": {},
     "output_type": "execute_result"
    }
   ],
   "source": [
    "result #résultat partie 1"
   ]
  },
  {
   "cell_type": "code",
   "execution_count": 23,
   "id": "633cddfb",
   "metadata": {},
   "outputs": [],
   "source": [
    "for inst in instructions:\n",
    "    \n",
    "    wieviel = int(inst[0])\n",
    "    von = int(inst[1])-1\n",
    "    zu = int(inst[2])-1\n",
    "    \n",
    "    for x in range(0, wieviel):\n",
    "        stacks[zu].insert(x, stacks[von][0])\n",
    "        stacks[von].remove(stacks[von][0])"
   ]
  },
  {
   "cell_type": "code",
   "execution_count": 24,
   "id": "b2164d63",
   "metadata": {},
   "outputs": [],
   "source": [
    "result = ''\n",
    "\n",
    "for stack in stacks:\n",
    "    result += stack[0]"
   ]
  },
  {
   "cell_type": "code",
   "execution_count": 25,
   "id": "0d68630b",
   "metadata": {},
   "outputs": [
    {
     "data": {
      "text/plain": [
       "'FGLQJCMBD'"
      ]
     },
     "execution_count": 25,
     "metadata": {},
     "output_type": "execute_result"
    }
   ],
   "source": [
    "result # résultat partie 2"
   ]
  }
 ],
 "metadata": {
  "kernelspec": {
   "display_name": "Python 3 (ipykernel)",
   "language": "python",
   "name": "python3"
  },
  "language_info": {
   "codemirror_mode": {
    "name": "ipython",
    "version": 3
   },
   "file_extension": ".py",
   "mimetype": "text/x-python",
   "name": "python",
   "nbconvert_exporter": "python",
   "pygments_lexer": "ipython3",
   "version": "3.10.9"
  }
 },
 "nbformat": 4,
 "nbformat_minor": 5
}
