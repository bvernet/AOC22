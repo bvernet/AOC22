{
 "cells": [
  {
   "cell_type": "code",
   "execution_count": 1,
   "id": "bd485015",
   "metadata": {},
   "outputs": [],
   "source": [
    "with open('Input06') as f:\n",
    "    data = f.read()"
   ]
  },
  {
   "cell_type": "code",
   "execution_count": 2,
   "id": "ad125c8e",
   "metadata": {},
   "outputs": [],
   "source": [
    "s = ''\n",
    "\n",
    "for i, char in enumerate(data):\n",
    "    for n in range(4):\n",
    "        s += data[i+n]\n",
    "    mon_set = set(s)\n",
    "    if len(mon_set) == 4:\n",
    "        result = i + 4\n",
    "        break\n",
    "    s = ''"
   ]
  },
  {
   "cell_type": "code",
   "execution_count": 3,
   "id": "c87d2f38",
   "metadata": {},
   "outputs": [
    {
     "data": {
      "text/plain": [
       "1655"
      ]
     },
     "execution_count": 3,
     "metadata": {},
     "output_type": "execute_result"
    }
   ],
   "source": [
    "result # résultat partie 1"
   ]
  },
  {
   "cell_type": "code",
   "execution_count": 4,
   "id": "a487300f",
   "metadata": {},
   "outputs": [],
   "source": [
    "s = ''\n",
    "\n",
    "for i, char in enumerate(data):\n",
    "    for n in range(14):\n",
    "        s += data[i+n]\n",
    "    mon_set = set(s)\n",
    "    if len(mon_set) == 14:\n",
    "        result = i + 14\n",
    "        break\n",
    "    s = ''"
   ]
  },
  {
   "cell_type": "code",
   "execution_count": 5,
   "id": "aa60a407",
   "metadata": {},
   "outputs": [
    {
     "data": {
      "text/plain": [
       "2665"
      ]
     },
     "execution_count": 5,
     "metadata": {},
     "output_type": "execute_result"
    }
   ],
   "source": [
    "result # résultat partie 2"
   ]
  }
 ],
 "metadata": {
  "kernelspec": {
   "display_name": "Python 3 (ipykernel)",
   "language": "python",
   "name": "python3"
  },
  "language_info": {
   "codemirror_mode": {
    "name": "ipython",
    "version": 3
   },
   "file_extension": ".py",
   "mimetype": "text/x-python",
   "name": "python",
   "nbconvert_exporter": "python",
   "pygments_lexer": "ipython3",
   "version": "3.10.9"
  }
 },
 "nbformat": 4,
 "nbformat_minor": 5
}
