{
 "cells": [
  {
   "cell_type": "code",
   "execution_count": 1,
   "id": "26192fd8",
   "metadata": {},
   "outputs": [],
   "source": [
    "with open('Input08') as f:\n",
    "    data = f.read()"
   ]
  },
  {
   "cell_type": "code",
   "execution_count": 2,
   "id": "27dca51a",
   "metadata": {
    "scrolled": true
   },
   "outputs": [],
   "source": [
    "data = data.split('\\n')\n",
    "data.remove('')"
   ]
  },
  {
   "cell_type": "code",
   "execution_count": 3,
   "id": "e17a5248",
   "metadata": {},
   "outputs": [],
   "source": [
    "def gauche(data, x, y):\n",
    "    \n",
    "    visible = True\n",
    "    \n",
    "    for i in range(0, y):  \n",
    "        if data[x][y] <= data[x][i]:\n",
    "            visible = False\n",
    "            break\n",
    "\n",
    "    return visible"
   ]
  },
  {
   "cell_type": "code",
   "execution_count": 4,
   "id": "433a34c3",
   "metadata": {},
   "outputs": [],
   "source": [
    "def droite(data, x, y):\n",
    "    \n",
    "    visible = True\n",
    "    \n",
    "    for i in range(y + 1, len(data[x])):\n",
    "        if data[x][y] <= data[x][i]:\n",
    "            visible = False\n",
    "            break\n",
    "            \n",
    "    return visible"
   ]
  },
  {
   "cell_type": "code",
   "execution_count": 5,
   "id": "21379b09",
   "metadata": {},
   "outputs": [],
   "source": [
    "def haut(data, x, y):\n",
    "    \n",
    "    visible = True\n",
    "    \n",
    "    for i in range(x):\n",
    "        if data[x][y] <= data[i][y]:\n",
    "            visible = False\n",
    "            break\n",
    "            \n",
    "    return visible"
   ]
  },
  {
   "cell_type": "code",
   "execution_count": 6,
   "id": "4f89f096",
   "metadata": {},
   "outputs": [],
   "source": [
    "def bas(data, x, y):\n",
    "    \n",
    "    visible = True\n",
    "    \n",
    "    for i in range(x + 1, len(data)):\n",
    "        if data[x][y] <= data[i][y]:\n",
    "            visible = False\n",
    "            break\n",
    "            \n",
    "    return visible"
   ]
  },
  {
   "cell_type": "code",
   "execution_count": 7,
   "id": "361799ef",
   "metadata": {},
   "outputs": [],
   "source": [
    "result = 2 * len(data[0]) + 2 * len(data) - 4\n",
    "\n",
    "for x in range(1, len(data)-1):\n",
    "    for y in range(1, len(data[x])-1):\n",
    "        if gauche(data, x, y) or droite(data, x, y) or haut(data, x, y) or bas(data, x, y):\n",
    "            result += 1"
   ]
  },
  {
   "cell_type": "code",
   "execution_count": 8,
   "id": "6d679a12",
   "metadata": {},
   "outputs": [
    {
     "data": {
      "text/plain": [
       "1698"
      ]
     },
     "execution_count": 8,
     "metadata": {},
     "output_type": "execute_result"
    }
   ],
   "source": [
    "result # résultat partie 1"
   ]
  },
  {
   "cell_type": "code",
   "execution_count": 9,
   "id": "d857676b",
   "metadata": {},
   "outputs": [],
   "source": [
    "def gauche2(data, x, y):\n",
    "    \n",
    "    scenic_score = 0\n",
    "    \n",
    "    for i in range(1, y + 1):  \n",
    "        if data[x][y] <= data[x][y - i]:\n",
    "            scenic_score += 1\n",
    "            break\n",
    "        else:\n",
    "            scenic_score += 1\n",
    "\n",
    "    return scenic_score"
   ]
  },
  {
   "cell_type": "code",
   "execution_count": 10,
   "id": "83d78097",
   "metadata": {},
   "outputs": [],
   "source": [
    "def droite2(data, x, y):\n",
    "    \n",
    "    scenic_score = 0\n",
    "    \n",
    "    for i in range(y + 1, len(data[x])):\n",
    "        if data[x][y] <= data[x][i]:\n",
    "            scenic_score += 1\n",
    "            break\n",
    "        else:\n",
    "            scenic_score += 1\n",
    "            \n",
    "    return scenic_score"
   ]
  },
  {
   "cell_type": "code",
   "execution_count": 11,
   "id": "1119d457",
   "metadata": {},
   "outputs": [],
   "source": [
    "def haut2(data, x, y):\n",
    "    \n",
    "    scenic_score = 0\n",
    "    \n",
    "    for i in range(1, x + 1):\n",
    "        if data[x][y] <= data[x - i][y]:\n",
    "            scenic_score += 1\n",
    "            break\n",
    "        else:\n",
    "            scenic_score += 1\n",
    "            \n",
    "    return scenic_score"
   ]
  },
  {
   "cell_type": "code",
   "execution_count": 12,
   "id": "a8b2277c",
   "metadata": {},
   "outputs": [],
   "source": [
    "def bas2(data, x, y):\n",
    "    \n",
    "    scenic_score = 0\n",
    "    \n",
    "    for i in range(x + 1, len(data)):\n",
    "        if data[x][y] <= data[i][y]:\n",
    "            scenic_score += 1\n",
    "            break\n",
    "        else:\n",
    "            scenic_score += 1\n",
    "            \n",
    "    return scenic_score"
   ]
  },
  {
   "cell_type": "code",
   "execution_count": 13,
   "id": "3deaf7d2",
   "metadata": {},
   "outputs": [],
   "source": [
    "scenic_scores = []\n",
    "for x in range(len(data)):\n",
    "    for y in range(len(data[x])):\n",
    "        scenic_scores.append(gauche2(data, x, y) * droite2(data, x, y) * haut2(data, x, y) * bas2(data, x, y))"
   ]
  },
  {
   "cell_type": "code",
   "execution_count": 14,
   "id": "172161b2",
   "metadata": {},
   "outputs": [
    {
     "data": {
      "text/plain": [
       "672280"
      ]
     },
     "execution_count": 14,
     "metadata": {},
     "output_type": "execute_result"
    }
   ],
   "source": [
    "max(scenic_scores) # résultat partie 2"
   ]
  }
 ],
 "metadata": {
  "kernelspec": {
   "display_name": "Python 3 (ipykernel)",
   "language": "python",
   "name": "python3"
  },
  "language_info": {
   "codemirror_mode": {
    "name": "ipython",
    "version": 3
   },
   "file_extension": ".py",
   "mimetype": "text/x-python",
   "name": "python",
   "nbconvert_exporter": "python",
   "pygments_lexer": "ipython3",
   "version": "3.10.9"
  }
 },
 "nbformat": 4,
 "nbformat_minor": 5
}
