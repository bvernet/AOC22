{
 "cells": [
  {
   "cell_type": "code",
   "execution_count": 1,
   "id": "52e90709",
   "metadata": {},
   "outputs": [],
   "source": [
    "with open('Input09') as f:\n",
    "    data = f.read()"
   ]
  },
  {
   "cell_type": "code",
   "execution_count": 2,
   "id": "c3a828e3",
   "metadata": {},
   "outputs": [],
   "source": [
    "import re"
   ]
  },
  {
   "cell_type": "code",
   "execution_count": 3,
   "id": "25e38752",
   "metadata": {},
   "outputs": [],
   "source": [
    "data = data.split('\\n')"
   ]
  },
  {
   "cell_type": "code",
   "execution_count": 4,
   "id": "912ee520",
   "metadata": {},
   "outputs": [],
   "source": [
    "data.remove('')"
   ]
  },
  {
   "cell_type": "code",
   "execution_count": 5,
   "id": "cbca910c",
   "metadata": {},
   "outputs": [],
   "source": [
    "class Head:\n",
    "    \n",
    "    def __init__(self):\n",
    "        self.x = 0\n",
    "        self.y = 0\n",
    "    \n",
    "    def move(self, direction): \n",
    "        \n",
    "        match direction:\n",
    "            \n",
    "            case \"U\":\n",
    "                self.y += 1\n",
    "                \n",
    "            case \"D\":\n",
    "                self.y -= 1\n",
    "                \n",
    "            case \"R\":\n",
    "                self.x += 1\n",
    "                \n",
    "            case \"L\":\n",
    "                self.x -= 1\n",
    "        "
   ]
  },
  {
   "cell_type": "code",
   "execution_count": 6,
   "id": "855c3b03",
   "metadata": {},
   "outputs": [],
   "source": [
    "class Tail:\n",
    "    \n",
    "    def __init__(self):\n",
    "        self.x = 0\n",
    "        self.y = 0\n",
    "    \n",
    "    def around(self, h):\n",
    "        \n",
    "        head_around = False\n",
    "        \n",
    "        for i in range(-1, 2):\n",
    "            for j in range(-1, 2):\n",
    "                if h.x ==  self.x + i and h.y == self.y + j:\n",
    "                    head_around = True\n",
    "                \n",
    "        return head_around\n",
    "        \n",
    "    \n",
    "    def follow(self, h):\n",
    "        \n",
    "        \n",
    "        if not self.around(h): \n",
    "         \n",
    "            if self.y == h.y: # s'ils sont sur la même ligne\n",
    "                \n",
    "                if h.x - self.x > 0:\n",
    "                    self.x += 1 \n",
    "                else:\n",
    "                    self.x -= 1 \n",
    "            \n",
    "            elif self.x == h.x: # s'ils sont sur la même colonne\n",
    "                \n",
    "                if h.y - self.y < 0:\n",
    "                    self.y -= 1 \n",
    "                else:\n",
    "                    self.y += 1 \n",
    "            \n",
    "            elif self.x != h.x and self.y != h.y: # s'ils sont séparés d'une diagonale\n",
    "                \n",
    "                if self.x > h.x:\n",
    "                    self.x -= 1\n",
    "                    \n",
    "                    if self.y > h.y:\n",
    "                        self.y -= 1\n",
    "                    else:\n",
    "                        self.y += 1\n",
    "                else:\n",
    "                    self.x += 1\n",
    "                    \n",
    "                    if self.y > h.y:\n",
    "                        self.y -= 1\n",
    "                    else:\n",
    "                        self.y += 1"
   ]
  },
  {
   "cell_type": "code",
   "execution_count": 7,
   "id": "56ff4bad",
   "metadata": {},
   "outputs": [],
   "source": [
    "h = Head()\n",
    "t = Tail()\n",
    "result = set()\n",
    "\n",
    "for ligne in data:\n",
    "    \n",
    "    for i in range(int(re.match(r\"\\w (\\d+)\", ligne).groups()[0])):\n",
    "        h.move(ligne[0])\n",
    "        t.follow(h)\n",
    "        result.add((t.x, t.y))"
   ]
  },
  {
   "cell_type": "code",
   "execution_count": 8,
   "id": "8275dd4f",
   "metadata": {},
   "outputs": [
    {
     "data": {
      "text/plain": [
       "6081"
      ]
     },
     "execution_count": 8,
     "metadata": {},
     "output_type": "execute_result"
    }
   ],
   "source": [
    "len(result) # résultat partie 1"
   ]
  },
  {
   "cell_type": "code",
   "execution_count": 9,
   "id": "d0bd3525",
   "metadata": {},
   "outputs": [],
   "source": [
    "h = Head()\n",
    "result = set()\n",
    "\n",
    "segments = [h]\n",
    "\n",
    "for i in range(9):\n",
    "    segments.append(Tail())\n",
    "    \n",
    "for ligne in data:\n",
    "    for i in range(int(re.match(r\"\\w (\\d+)\", ligne).groups()[0])):\n",
    "        h.move(ligne[0])\n",
    "        for s1, s2 in zip(segments[1:], segments[:-1]):\n",
    "            s1.follow(s2)\n",
    "        result.add((segments[-1].x, segments[-1].y))"
   ]
  },
  {
   "cell_type": "code",
   "execution_count": 10,
   "id": "efedc01d",
   "metadata": {},
   "outputs": [
    {
     "data": {
      "text/plain": [
       "2487"
      ]
     },
     "execution_count": 10,
     "metadata": {},
     "output_type": "execute_result"
    }
   ],
   "source": [
    "len(result) # résultat partie 2"
   ]
  }
 ],
 "metadata": {
  "kernelspec": {
   "display_name": "Python 3 (ipykernel)",
   "language": "python",
   "name": "python3"
  },
  "language_info": {
   "codemirror_mode": {
    "name": "ipython",
    "version": 3
   },
   "file_extension": ".py",
   "mimetype": "text/x-python",
   "name": "python",
   "nbconvert_exporter": "python",
   "pygments_lexer": "ipython3",
   "version": "3.10.9"
  }
 },
 "nbformat": 4,
 "nbformat_minor": 5
}
