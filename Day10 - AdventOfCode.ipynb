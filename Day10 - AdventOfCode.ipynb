{
 "cells": [
  {
   "cell_type": "code",
   "execution_count": 1,
   "id": "7ef41147",
   "metadata": {},
   "outputs": [],
   "source": [
    "with open('Input10') as f:\n",
    "    data = f.read()"
   ]
  },
  {
   "cell_type": "code",
   "execution_count": 2,
   "id": "ac387df4",
   "metadata": {},
   "outputs": [],
   "source": [
    "import re"
   ]
  },
  {
   "cell_type": "code",
   "execution_count": 3,
   "id": "b2626f9b",
   "metadata": {},
   "outputs": [],
   "source": [
    "data = data.split('\\n')\n",
    "data.remove('')"
   ]
  },
  {
   "cell_type": "code",
   "execution_count": 4,
   "id": "c6c2f757",
   "metadata": {},
   "outputs": [],
   "source": [
    "X = [1]\n",
    "last_value = 1\n",
    "\n",
    "for ligne in data:\n",
    "    \n",
    "    match ligne.split()[0]:\n",
    "        \n",
    "        case 'addx':\n",
    "            X.append(last_value)\n",
    "            last_value += int(ligne.split()[1])\n",
    "            X.append(last_value)\n",
    "        \n",
    "        case 'noop':\n",
    "            X.append(last_value)"
   ]
  },
  {
   "cell_type": "code",
   "execution_count": 5,
   "id": "8101c42c",
   "metadata": {},
   "outputs": [],
   "source": [
    "result = 0\n",
    "\n",
    "for j in range(19, 259, 40):\n",
    "    result += X[j]*(j+1)"
   ]
  },
  {
   "cell_type": "code",
   "execution_count": 6,
   "id": "014c7d2f",
   "metadata": {},
   "outputs": [
    {
     "data": {
      "text/plain": [
       "14720"
      ]
     },
     "execution_count": 6,
     "metadata": {},
     "output_type": "execute_result"
    }
   ],
   "source": [
    "result # résultat partie 1"
   ]
  },
  {
   "cell_type": "code",
   "execution_count": 7,
   "id": "9b97b151",
   "metadata": {},
   "outputs": [
    {
     "name": "stdout",
     "output_type": "stream",
     "text": [
      "####.####.###..###..###..####.####.####.\n",
      "#.......#.#..#.#..#.#..#.#.......#.#....\n",
      "###....#..###..#..#.###..###....#..###..\n",
      "#.....#...#..#.###..#..#.#.....#...#....\n",
      "#....#....#..#.#....#..#.#....#....#....\n",
      "#....####.###..#....###..#....####.#....\n"
     ]
    }
   ],
   "source": [
    "for i in range(6):\n",
    "    for j in range(40):\n",
    "        for k in range(-1, 2) :\n",
    "            if (j + k) == X[j + i*40]:\n",
    "                draw = True\n",
    "                break\n",
    "            else:\n",
    "                draw = False\n",
    "        if draw:\n",
    "            print('#', end ='')\n",
    "        else:\n",
    "            print('.', end = '')\n",
    "    print()\n",
    "            "
   ]
  },
  {
   "cell_type": "code",
   "execution_count": 8,
   "id": "63c7b6cc",
   "metadata": {},
   "outputs": [],
   "source": [
    "# résultat partie 2 : FZBPBFZF"
   ]
  }
 ],
 "metadata": {
  "kernelspec": {
   "display_name": "Python 3 (ipykernel)",
   "language": "python",
   "name": "python3"
  },
  "language_info": {
   "codemirror_mode": {
    "name": "ipython",
    "version": 3
   },
   "file_extension": ".py",
   "mimetype": "text/x-python",
   "name": "python",
   "nbconvert_exporter": "python",
   "pygments_lexer": "ipython3",
   "version": "3.10.9"
  }
 },
 "nbformat": 4,
 "nbformat_minor": 5
}
