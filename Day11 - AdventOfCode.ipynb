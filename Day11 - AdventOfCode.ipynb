{
 "cells": [
  {
   "cell_type": "code",
   "execution_count": 1,
   "id": "3f72bc6e",
   "metadata": {},
   "outputs": [],
   "source": [
    "with open('Input11') as f:\n",
    "    data = f.read()"
   ]
  },
  {
   "cell_type": "code",
   "execution_count": 2,
   "id": "53792c86",
   "metadata": {},
   "outputs": [],
   "source": [
    "import re"
   ]
  },
  {
   "cell_type": "code",
   "execution_count": 3,
   "id": "5731d1c6",
   "metadata": {},
   "outputs": [],
   "source": [
    "data = data.split('\\n\\n')\n",
    "\n",
    "monkeys_init = []\n",
    "\n",
    "for monkey in data:\n",
    "    monkeys_init.append(monkey.split('\\n'))\n",
    "    \n",
    "monkeys_init[-1].remove('')"
   ]
  },
  {
   "cell_type": "code",
   "execution_count": 4,
   "id": "c1c3113d",
   "metadata": {},
   "outputs": [],
   "source": [
    "class Monkey():\n",
    "    \n",
    "    def __init__(self):\n",
    "        self.items = []\n",
    "        self.op = ''\n",
    "        self.condition_test = int()\n",
    "        self.true_condition = int()\n",
    "        self.false_condition = int()\n",
    "        self.items_inspected = int()\n",
    "    \n",
    "    def operation(self, old):\n",
    "        \n",
    "        new = eval(self.op)\n",
    "            \n",
    "        return new\n",
    "    \n",
    "    def relief(self, old): # fct part1\n",
    "        \n",
    "        new = int(self.operation(old) / 3)\n",
    "        \n",
    "        return new\n",
    "    \n",
    "    def stress(self, old): # fct part2\n",
    "        \n",
    "        new = self.operation(old) % (11*5*19*13*7*17*2*3)\n",
    "        \n",
    "        return new\n",
    "    \n",
    "    def test(self, old):\n",
    "        \n",
    "        # if self.relief(old) % self.condition_test == 0: #partie 1\n",
    "        \n",
    "        if self.stress(old) % self.condition_test == 0: # partie 2\n",
    "            return True\n",
    "        else:\n",
    "            return False\n",
    "    \n",
    "    def monkey_destination(self, old):\n",
    "        if self.test(old) :\n",
    "            return self.true_condition\n",
    "        else:\n",
    "            return self.false_condition"
   ]
  },
  {
   "cell_type": "code",
   "execution_count": 5,
   "id": "54f6f2cd",
   "metadata": {
    "scrolled": true
   },
   "outputs": [],
   "source": [
    "monkeys = []\n",
    "\n",
    "for i, monkey in enumerate(monkeys_init):\n",
    "    for ligne in monkey:\n",
    "        \n",
    "        match ligne.split(': ')[0]:       \n",
    " \n",
    "            case '  Starting items':\n",
    "                m = re.findall(r\"(\\d+)\", ligne)\n",
    "                for item in m:\n",
    "                    monkeys[i].items.append(int(item))\n",
    "                    \n",
    "            case '  Operation': \n",
    "                \n",
    "                monkeys[i].op = ligne.split('= ')[1]\n",
    "\n",
    "                \n",
    "            case '  Test':\n",
    "                div = int(ligne.split('by ')[1])\n",
    "                monkeys[i].condition_test = div\n",
    "                \n",
    "            case '    If true':\n",
    "                true_condition = int(ligne.split('monkey ')[1])\n",
    "                monkeys[i].true_condition = true_condition\n",
    "                \n",
    "            case '    If false':\n",
    "                false_condition = int(ligne.split('monkey ')[1])\n",
    "                monkeys[i].false_condition = false_condition\n",
    "                \n",
    "            case _: # Monkey, default case\n",
    "                monkeys.append(Monkey())"
   ]
  },
  {
   "cell_type": "code",
   "execution_count": 6,
   "id": "37cd53c4",
   "metadata": {},
   "outputs": [],
   "source": [
    "for i in range(20):\n",
    "    for monkey in monkeys:\n",
    "        for item in monkey.items:\n",
    "            monkey.items_inspected += 1\n",
    "            monkeys[monkey.monkey_destination(item)].items.append(monkey.relief(item))\n",
    "        monkey.items.clear()"
   ]
  },
  {
   "cell_type": "code",
   "execution_count": 7,
   "id": "526c0fd6",
   "metadata": {},
   "outputs": [],
   "source": [
    "inspected = []\n",
    "for monkey in monkeys:\n",
    "    inspected.append(monkey.items_inspected)\n",
    "result = sorted(inspected)[-1] * sorted(inspected)[-2]"
   ]
  },
  {
   "cell_type": "code",
   "execution_count": 8,
   "id": "f8618194",
   "metadata": {},
   "outputs": [
    {
     "data": {
      "text/plain": [
       "68096"
      ]
     },
     "execution_count": 8,
     "metadata": {},
     "output_type": "execute_result"
    }
   ],
   "source": [
    "result #résultat partie 1"
   ]
  },
  {
   "cell_type": "code",
   "execution_count": 6,
   "id": "3d7512b2",
   "metadata": {},
   "outputs": [],
   "source": [
    "for i in range(10000):\n",
    "    for monkey in monkeys:\n",
    "        for item in monkey.items:\n",
    "            monkey.items_inspected += 1\n",
    "            monkeys[monkey.monkey_destination(item)].items.append(monkey.stress(item))\n",
    "        monkey.items.clear()"
   ]
  },
  {
   "cell_type": "code",
   "execution_count": 7,
   "id": "0639a502",
   "metadata": {},
   "outputs": [],
   "source": [
    "inspected = sorted([monkey.items_inspected for monkey in monkeys])\n",
    "result = inspected[-1]*inspected[-2]"
   ]
  },
  {
   "cell_type": "code",
   "execution_count": 8,
   "id": "5c2de6ba",
   "metadata": {},
   "outputs": [
    {
     "data": {
      "text/plain": [
       "12729522272"
      ]
     },
     "execution_count": 8,
     "metadata": {},
     "output_type": "execute_result"
    }
   ],
   "source": [
    "result # résultat partie 2"
   ]
  }
 ],
 "metadata": {
  "kernelspec": {
   "display_name": "Python 3 (ipykernel)",
   "language": "python",
   "name": "python3"
  },
  "language_info": {
   "codemirror_mode": {
    "name": "ipython",
    "version": 3
   },
   "file_extension": ".py",
   "mimetype": "text/x-python",
   "name": "python",
   "nbconvert_exporter": "python",
   "pygments_lexer": "ipython3",
   "version": "3.10.9"
  }
 },
 "nbformat": 4,
 "nbformat_minor": 5
}
