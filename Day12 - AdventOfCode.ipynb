{
 "cells": [
  {
   "cell_type": "code",
   "execution_count": 1,
   "id": "3971fd07",
   "metadata": {},
   "outputs": [],
   "source": [
    "with open('Input12') as f:\n",
    "    data = f.read()"
   ]
  },
  {
   "cell_type": "code",
   "execution_count": 2,
   "id": "d729ddf8",
   "metadata": {},
   "outputs": [],
   "source": [
    "import numpy as np"
   ]
  },
  {
   "cell_type": "code",
   "execution_count": 3,
   "id": "23bad6c8",
   "metadata": {},
   "outputs": [],
   "source": [
    "from tqdm import tqdm"
   ]
  },
  {
   "cell_type": "code",
   "execution_count": 4,
   "id": "efe2d737",
   "metadata": {},
   "outputs": [],
   "source": [
    "data = data.split('\\n')"
   ]
  },
  {
   "cell_type": "code",
   "execution_count": 5,
   "id": "afbd5eb4",
   "metadata": {},
   "outputs": [],
   "source": [
    "plan = []\n",
    "for ligne in data:\n",
    "    plan.append([ord(char) for char in ligne])\n",
    "plan.remove([])"
   ]
  },
  {
   "cell_type": "code",
   "execution_count": 6,
   "id": "5789692e",
   "metadata": {},
   "outputs": [],
   "source": [
    "def find_S (carte, plan):\n",
    "    for y, ligne in enumerate(carte):\n",
    "        for x, char in enumerate(ligne):\n",
    "            if ord(char) == ord('S'):\n",
    "                plan[y][x] = ord('a')\n",
    "                return x, y"
   ]
  },
  {
   "cell_type": "code",
   "execution_count": 7,
   "id": "7318ab9b",
   "metadata": {},
   "outputs": [],
   "source": [
    "def find_E (carte, plan):\n",
    "    for y, ligne in enumerate(carte):\n",
    "        for x, char in enumerate(ligne):\n",
    "            if ord(char) == ord('E'):\n",
    "                plan[y][x] = ord('z')\n",
    "                return x, y   "
   ]
  },
  {
   "cell_type": "code",
   "execution_count": 8,
   "id": "71013758",
   "metadata": {},
   "outputs": [],
   "source": [
    "class Position():\n",
    "    def __init__(self):\n",
    "        self.x = int()\n",
    "        self.y = int()"
   ]
  },
  {
   "cell_type": "code",
   "execution_count": 9,
   "id": "b63102c5",
   "metadata": {},
   "outputs": [],
   "source": [
    "def neighbours(c: list, t: tuple) -> list :\n",
    "    \n",
    "    n = []\n",
    "    p = Position()\n",
    "    p.x = t[0]\n",
    "    p.y = t[1]\n",
    "    \n",
    "    for i in range(-1, 2, 2):\n",
    "        if not ((i == -1 and p.x == 0) or (i == 1 and p.x == len(c[0])-1)):      \n",
    "            if c[p.y][p.x + i] <= c[p.y][p.x] or c[p.y][p.x + i] == c[p.y][p.x] + 1 :\n",
    "                n.append((p.x + i, p.y))\n",
    "            \n",
    "    for i in range(-1, 2, 2):\n",
    "        if not ((i == -1 and p.y == 0) or (i == 1 and p.y == len(c)-1)): \n",
    "            if c[p.y + i][p.x] <= c[p.y][p.x] or c[p.y + i][p.x] == c[p.y][p.x] + 1 :\n",
    "                n.append((p.x, p.y + i))   \n",
    "\n",
    "    return n"
   ]
  },
  {
   "cell_type": "code",
   "execution_count": 17,
   "id": "d9c3f64e",
   "metadata": {},
   "outputs": [],
   "source": [
    "def neighbours_v2(c: list, t: tuple) -> list :\n",
    "    \n",
    "    n = []\n",
    "    p = Position()\n",
    "    p.x = t[0]\n",
    "    p.y = t[1]\n",
    "    \n",
    "    for i in range(-1, 2, 2):\n",
    "        if not ((i == -1 and p.x == 0) or (i == 1 and p.x == len(c[0])-1)):      \n",
    "            if c[p.y][p.x + i] >= c[p.y][p.x] or c[p.y][p.x + i] == c[p.y][p.x] - 1 :\n",
    "                n.append((p.x + i, p.y))\n",
    "            \n",
    "    for i in range(-1, 2, 2):\n",
    "        if not ((i == -1 and p.y == 0) or (i == 1 and p.y == len(c)-1)): \n",
    "            if c[p.y + i][p.x] >= c[p.y][p.x] or c[p.y + i][p.x] == c[p.y][p.x] - 1 :\n",
    "                n.append((p.x, p.y + i))   \n",
    "\n",
    "    return n"
   ]
  },
  {
   "cell_type": "code",
   "execution_count": 18,
   "id": "d0f19f38",
   "metadata": {},
   "outputs": [],
   "source": [
    "def dijkstra(data, plan, current, unvisited, tentative_distance):\n",
    "    \n",
    "    pt_e = find_E(data, plan)\n",
    "    \n",
    "    while unvisited:\n",
    "        for neighbour in neighbours(plan, current):\n",
    "            if neighbour in unvisited:\n",
    "                tentative_distance[neighbour] = tentative_distance[current] + 1\n",
    "\n",
    "        unvisited.remove(current)\n",
    "        \n",
    "        if current == pt_e:\n",
    "            return tentative_distance[current]\n",
    "\n",
    "        path_min = min([tentative_distance[key] for key in unvisited])\n",
    "\n",
    "        shortest_paths = set()\n",
    "\n",
    "        for i, val in enumerate(tentative_distance.values()):\n",
    "            if val == path_min:\n",
    "                shortest_paths.add(list(tentative_distance.keys())[i])\n",
    "\n",
    "        current = list(shortest_paths & set(unvisited))[0] "
   ]
  },
  {
   "cell_type": "code",
   "execution_count": 24,
   "id": "dbc12806",
   "metadata": {
    "scrolled": true
   },
   "outputs": [],
   "source": [
    "unvisited = []\n",
    "\n",
    "for y, ligne in enumerate(plan):\n",
    "    for x, nb in enumerate(ligne):\n",
    "        unvisited.append((x, y))\n",
    "\n",
    "tentative_distance = {coord : float('inf') for coord in unvisited}\n",
    "tentative_distance[find_S(data, plan)] = 0       \n",
    "current = find_S(data, plan)\n",
    "\n",
    "result = dijkstra(data, plan, current, unvisited, tentative_distance)"
   ]
  },
  {
   "cell_type": "code",
   "execution_count": 25,
   "id": "2ed85110",
   "metadata": {},
   "outputs": [
    {
     "data": {
      "text/plain": [
       "468"
      ]
     },
     "execution_count": 25,
     "metadata": {},
     "output_type": "execute_result"
    }
   ],
   "source": [
    "result # résultat partie 1"
   ]
  },
  {
   "cell_type": "code",
   "execution_count": 28,
   "id": "02632c07",
   "metadata": {},
   "outputs": [],
   "source": [
    "def dijkstra_v2(data, plan, current, unvisited, tentative_distance):\n",
    "    \n",
    "    pt_e = find_E(data, plan)\n",
    "    \n",
    "    while unvisited:\n",
    "        for neighbour in neighbours_v2(plan, current):\n",
    "            if neighbour in unvisited:\n",
    "                tentative_distance[neighbour] = tentative_distance[current] + 1\n",
    "\n",
    "        unvisited.remove(current)\n",
    "        \n",
    "        if len(unvisited) == 0:\n",
    "            return tentative_distance\n",
    "\n",
    "        path_min = min([tentative_distance[key] for key in unvisited])\n",
    "\n",
    "        shortest_paths = set()\n",
    "\n",
    "        for i, val in enumerate(tentative_distance.values()):\n",
    "            if val == path_min:\n",
    "                shortest_paths.add(list(tentative_distance.keys())[i])\n",
    "\n",
    "        current = list(shortest_paths & set(unvisited))[0] "
   ]
  },
  {
   "cell_type": "code",
   "execution_count": 29,
   "id": "158162f2",
   "metadata": {},
   "outputs": [],
   "source": [
    "unvisited = []\n",
    "\n",
    "for y, ligne in enumerate(plan):\n",
    "    for x, nb in enumerate(ligne):\n",
    "        unvisited.append((x, y))\n",
    "\n",
    "tentative_distance = {coord : float('inf') for coord in unvisited}\n",
    "tentative_distance[find_E(data, plan)] = 0       \n",
    "current = find_E(data, plan)\n",
    "\n",
    "result = dijkstra_v2(data, plan, current, unvisited, tentative_distance)"
   ]
  },
  {
   "cell_type": "code",
   "execution_count": 30,
   "id": "3624d2f4",
   "metadata": {},
   "outputs": [],
   "source": [
    "coord_a = []\n",
    "\n",
    "for y, colonne in enumerate(data):\n",
    "    for x, char in enumerate(colonne):\n",
    "        if char == 'a':\n",
    "            coord_a.append((x,y))\n",
    "        \n",
    "result = min([result[a] for a in coord_a])"
   ]
  },
  {
   "cell_type": "code",
   "execution_count": 31,
   "id": "206c0a3b",
   "metadata": {},
   "outputs": [
    {
     "data": {
      "text/plain": [
       "459"
      ]
     },
     "execution_count": 31,
     "metadata": {},
     "output_type": "execute_result"
    }
   ],
   "source": [
    "result #résultat partie 2"
   ]
  },
  {
   "cell_type": "code",
   "execution_count": null,
   "id": "09cf269d",
   "metadata": {},
   "outputs": [],
   "source": [
    "def floyd_warshall(m: np.array, unvisited: list, e: tuple, data: list) -> np.float64 :\n",
    "    \n",
    "    for k in tqdm(range(N)):\n",
    "        for i in range(N):\n",
    "            for j in range(N):\n",
    "                if m[i,k] + m[k,j] < m[i,j]:\n",
    "                    m[i,j] = m[i,k] + m[k,j]\n",
    "                #m[i,j] = min([m[i,j], m[i,k]+m[k,j]])\n",
    "    \n",
    "    coord_a = []\n",
    "    path = []\n",
    "    \n",
    "    for i, char in enumerate(\"\".join(data)):\n",
    "        if char == 'a':\n",
    "            coord_a.append(i)\n",
    "    \n",
    "    for a in coord_a:\n",
    "        path.append(m[a, unvisited.index(e)])\n",
    "    \n",
    "    return min(path)"
   ]
  },
  {
   "cell_type": "code",
   "execution_count": 17,
   "id": "6e876236",
   "metadata": {},
   "outputs": [
    {
     "name": "stderr",
     "output_type": "stream",
     "text": [
      "  0%|          | 2/5863 [00:58<47:41:47, 29.30s/it]\n"
     ]
    },
    {
     "ename": "KeyboardInterrupt",
     "evalue": "",
     "output_type": "error",
     "traceback": [
      "\u001b[1;31m---------------------------------------------------------------------------\u001b[0m",
      "\u001b[1;31mKeyboardInterrupt\u001b[0m                         Traceback (most recent call last)",
      "Cell \u001b[1;32mIn[17], line 22\u001b[0m\n\u001b[0;32m     19\u001b[0m         j \u001b[38;5;241m=\u001b[39m unvisited\u001b[38;5;241m.\u001b[39mindex(neighbour)\n\u001b[0;32m     20\u001b[0m         matrice[i, j] \u001b[38;5;241m=\u001b[39m \u001b[38;5;241m1\u001b[39m\n\u001b[1;32m---> 22\u001b[0m result \u001b[38;5;241m=\u001b[39m \u001b[43mfloyd_warshall\u001b[49m\u001b[43m(\u001b[49m\u001b[43mmatrice\u001b[49m\u001b[43m,\u001b[49m\u001b[43m \u001b[49m\u001b[43munvisited\u001b[49m\u001b[43m,\u001b[49m\u001b[43m \u001b[49m\u001b[43mpt_e\u001b[49m\u001b[43m,\u001b[49m\u001b[43m \u001b[49m\u001b[43mdata\u001b[49m\u001b[43m)\u001b[49m\n",
      "Cell \u001b[1;32mIn[16], line 8\u001b[0m, in \u001b[0;36mfloyd_warshall\u001b[1;34m(m, unvisited, e, data)\u001b[0m\n\u001b[0;32m      4\u001b[0m         \u001b[38;5;28;01mfor\u001b[39;00m i \u001b[38;5;129;01min\u001b[39;00m \u001b[38;5;28mrange\u001b[39m(N):\n\u001b[0;32m      5\u001b[0m             \u001b[38;5;28;01mfor\u001b[39;00m j \u001b[38;5;129;01min\u001b[39;00m \u001b[38;5;28mrange\u001b[39m(N):\n\u001b[0;32m      6\u001b[0m \u001b[38;5;66;03m#                 if m[i,k] + m[k,j] < m[i,j]:\u001b[39;00m\n\u001b[0;32m      7\u001b[0m \u001b[38;5;66;03m#                     m[i,j] = m[i,k] + m[k,j]\u001b[39;00m\n\u001b[1;32m----> 8\u001b[0m                 m[i,j] \u001b[38;5;241m=\u001b[39m \u001b[38;5;28mmin\u001b[39m([m[i,j], m[i,k]\u001b[38;5;241m+\u001b[39mm[k,j]])\n\u001b[0;32m     10\u001b[0m     coord_a \u001b[38;5;241m=\u001b[39m []\n\u001b[0;32m     11\u001b[0m     path \u001b[38;5;241m=\u001b[39m []\n",
      "\u001b[1;31mKeyboardInterrupt\u001b[0m: "
     ]
    }
   ],
   "source": [
    "N = len(\"\".join(data))\n",
    "matrice = np.ones((N, N))\n",
    "matrice[:,:] = float('inf')\n",
    "\n",
    "for i in range(N):\n",
    "    matrice[i, i] = 0\n",
    "    \n",
    "unvisited = []\n",
    "\n",
    "for y, ligne in enumerate(plan):\n",
    "    for x, nb in enumerate(ligne):\n",
    "        unvisited.append((x, y))\n",
    "        \n",
    "find_S(data, plan)\n",
    "pt_e = find_E(data,plan)\n",
    "\n",
    "for i, coord in enumerate(unvisited):\n",
    "    for neighbour in neighbours(plan, coord):\n",
    "        j = unvisited.index(neighbour)\n",
    "        matrice[i, j] = 1\n",
    "        \n",
    "result = floyd_warshall(matrice, unvisited, pt_e, data)"
   ]
  },
  {
   "cell_type": "code",
   "execution_count": null,
   "id": "ad96fc9e",
   "metadata": {},
   "outputs": [],
   "source": [
    "# pour tous les points p\n",
    "# pour chaque voisin n\n",
    "# dist[p][n] = 1"
   ]
  },
  {
   "cell_type": "code",
   "execution_count": 62,
   "id": "5ddd173d",
   "metadata": {},
   "outputs": [
    {
     "data": {
      "text/plain": [
       "11.299444444444445"
      ]
     },
     "execution_count": 62,
     "metadata": {},
     "output_type": "execute_result"
    }
   ],
   "source": [
    "from collections import Counter\n",
    "(Counter(\"\".join(data))[\"a\"]*22)/3600"
   ]
  },
  {
   "cell_type": "code",
   "execution_count": 42,
   "id": "3920e553",
   "metadata": {},
   "outputs": [],
   "source": [
    "data_test =['Sabqponm',\n",
    "'abcryxxl',\n",
    "'accszExk',\n",
    "'acctuvwj',\n",
    "'abdefghi']"
   ]
  },
  {
   "cell_type": "code",
   "execution_count": 43,
   "id": "b7b6e42b",
   "metadata": {},
   "outputs": [],
   "source": [
    "plan_test = []\n",
    "for ligne in data_test:\n",
    "    plan_test.append([ord(char) for char in ligne])"
   ]
  },
  {
   "cell_type": "code",
   "execution_count": 44,
   "id": "ccedd03f",
   "metadata": {},
   "outputs": [
    {
     "data": {
      "text/plain": [
       "[[83, 97, 98, 113, 112, 111, 110, 109],\n",
       " [97, 98, 99, 114, 121, 120, 120, 108],\n",
       " [97, 99, 99, 115, 122, 69, 120, 107],\n",
       " [97, 99, 99, 116, 117, 118, 119, 106],\n",
       " [97, 98, 100, 101, 102, 103, 104, 105]]"
      ]
     },
     "execution_count": 44,
     "metadata": {},
     "output_type": "execute_result"
    }
   ],
   "source": [
    "plan_test"
   ]
  },
  {
   "cell_type": "code",
   "execution_count": 21,
   "id": "2e9afddd",
   "metadata": {
    "scrolled": true
   },
   "outputs": [
    {
     "name": "stdout",
     "output_type": "stream",
     "text": [
      "youpi\n",
      "31\n",
      "31\n"
     ]
    }
   ],
   "source": [
    "unvisited = []\n",
    "\n",
    "for y, ligne in enumerate(plan_test):\n",
    "    for x, nb in enumerate(ligne):\n",
    "        unvisited.append((x, y))\n",
    "\n",
    "tentative_distance = {coord : float('inf') for coord in unvisited}\n",
    "tentative_distance[find_S(data_test, plan_test)] = 0       \n",
    "current = find_S(data_test, plan_test)\n",
    "\n",
    "pt_e = find_E(data_test, plan_test)\n",
    "\n",
    "result_test = dijkstra(data_test, plan_test, current, unvisited, tentative_distance)\n",
    "\n",
    "print(result_test)"
   ]
  },
  {
   "cell_type": "code",
   "execution_count": 69,
   "id": "e080801a",
   "metadata": {},
   "outputs": [],
   "source": [
    "N = len(\"\".join(data_test))\n",
    "matrice_test = np.ones((N, N))\n",
    "matrice_test[:,:] = float('inf')\n",
    "\n",
    "for i in range(N):\n",
    "    matrice[i, i] = 0\n",
    "\n",
    "unvisited = []\n",
    "\n",
    "for y, ligne in enumerate(plan_test):\n",
    "    for x, nb in enumerate(ligne):\n",
    "        unvisited.append((x, y))\n",
    "        \n",
    "find_S(data_test, plan_test)\n",
    "pt_e = find_E(data_test,plan_test)\n",
    "\n",
    "for i, coord in enumerate(unvisited):\n",
    "    for neighbour in neighbours(plan_test, coord):\n",
    "        j = unvisited.index(neighbour)\n",
    "        matrice_test[i, j] = 1\n",
    "        \n",
    "result = floyd_warshall(matrice_test, unvisited, pt_e, data_test)"
   ]
  },
  {
   "cell_type": "code",
   "execution_count": 70,
   "id": "6bc9afbf",
   "metadata": {},
   "outputs": [
    {
     "data": {
      "text/plain": [
       "29.0"
      ]
     },
     "execution_count": 70,
     "metadata": {},
     "output_type": "execute_result"
    }
   ],
   "source": [
    "result"
   ]
  }
 ],
 "metadata": {
  "kernelspec": {
   "display_name": "Python 3 (ipykernel)",
   "language": "python",
   "name": "python3"
  },
  "language_info": {
   "codemirror_mode": {
    "name": "ipython",
    "version": 3
   },
   "file_extension": ".py",
   "mimetype": "text/x-python",
   "name": "python",
   "nbconvert_exporter": "python",
   "pygments_lexer": "ipython3",
   "version": "3.10.9"
  }
 },
 "nbformat": 4,
 "nbformat_minor": 5
}
