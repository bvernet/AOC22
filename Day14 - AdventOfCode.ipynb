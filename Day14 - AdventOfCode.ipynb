{
 "cells": [
  {
   "cell_type": "code",
   "execution_count": 1,
   "id": "a27fb821",
   "metadata": {},
   "outputs": [],
   "source": [
    "with open('Input14') as f:\n",
    "    data = f.read()"
   ]
  },
  {
   "cell_type": "code",
   "execution_count": 2,
   "id": "5c00f794",
   "metadata": {},
   "outputs": [],
   "source": [
    "import numpy as np\n",
    "import regex as re\n",
    "from tqdm import tqdm"
   ]
  },
  {
   "cell_type": "code",
   "execution_count": 3,
   "id": "80c6d74c",
   "metadata": {},
   "outputs": [],
   "source": [
    "data = data.split('\\n')\n",
    "data.remove('')"
   ]
  },
  {
   "cell_type": "code",
   "execution_count": 4,
   "id": "0d9474d3",
   "metadata": {},
   "outputs": [],
   "source": [
    "def cells(data: list) -> set:\n",
    "    \n",
    "    rocks = [[(int(m[0]), int(m[1])) for m in re.findall(r'(\\w+),(\\w+)',l)] for l in data]\n",
    "    \n",
    "    occupied_cells = set()\n",
    "\n",
    "    for rock in rocks:\n",
    "        for i in range(len(rock)-1):\n",
    "            if rock[i][0] != rock[i+1][0]:\n",
    "                minx = min(rock[i+1][0], rock[i][0])\n",
    "                maxx = max(rock[i+1][0], rock[i][0])\n",
    "                for x in range(minx, maxx+1):\n",
    "                    occupied_cells.add((x, rock[i][1]))\n",
    "            else:\n",
    "                miny = min(rock[i+1][1], rock[i][1])\n",
    "                maxy = max(rock[i+1][1], rock[i][1])\n",
    "                for y in range(miny, maxy + 1):\n",
    "                    occupied_cells.add((rock[i][0], y))\n",
    "    \n",
    "    return occupied_cells"
   ]
  },
  {
   "cell_type": "code",
   "execution_count": 5,
   "id": "43402ee5",
   "metadata": {},
   "outputs": [],
   "source": [
    "def falling_sand(data: list) -> int:\n",
    "    \n",
    "    occupied_cells = cells(data)\n",
    "    \n",
    "    units = 0\n",
    "     \n",
    "    max_y = max(c[1] for c in occupied_cells)    \n",
    "    \n",
    "    while True:\n",
    "        \n",
    "        rest = False\n",
    "        sand = (500,0)\n",
    "    \n",
    "        while not rest:\n",
    "\n",
    "            if sand[1] > max_y:\n",
    "                return units\n",
    "\n",
    "            elif (sand[0], sand[1]+1) not in occupied_cells:\n",
    "                sand = (sand[0],sand[1]+1)\n",
    "\n",
    "            elif (sand[0]-1, sand[1]+1) not in occupied_cells:\n",
    "                sand = (sand[0]-1,sand[1]+1)\n",
    "\n",
    "            elif (sand[0]+1, sand[1]+1) not in occupied_cells:\n",
    "                sand = (sand[0]+1,sand[1]+1)     \n",
    "\n",
    "            else:\n",
    "                rest = True\n",
    "                occupied_cells.add(sand)\n",
    "                sand = (500,0)\n",
    "                units += 1"
   ]
  },
  {
   "cell_type": "code",
   "execution_count": 6,
   "id": "7785035f",
   "metadata": {},
   "outputs": [],
   "source": [
    "result = falling_sand(data)"
   ]
  },
  {
   "cell_type": "code",
   "execution_count": 7,
   "id": "802e26c3",
   "metadata": {},
   "outputs": [
    {
     "data": {
      "text/plain": [
       "858"
      ]
     },
     "execution_count": 7,
     "metadata": {},
     "output_type": "execute_result"
    }
   ],
   "source": [
    "result # résultat partie 1"
   ]
  },
  {
   "cell_type": "code",
   "execution_count": 8,
   "id": "dd31380b",
   "metadata": {},
   "outputs": [],
   "source": [
    "def falling_sand_2(data: list) -> int:\n",
    "    \n",
    "    occupied_cells = cells(data)\n",
    "    \n",
    "    units = 0\n",
    "     \n",
    "    max_y = max(c[1] for c in occupied_cells) \n",
    "    max_x = max(c[0] for c in occupied_cells)\n",
    "    min_x = min(c[0] for c in occupied_cells)\n",
    "    \n",
    "    for floor in range(min_x - 1000, max_x + 1000):\n",
    "        occupied_cells.add((floor, max_y + 2))\n",
    "    \n",
    "    while True:\n",
    "        \n",
    "        rest = False\n",
    "        sand = (500,0)\n",
    "    \n",
    "        while not rest:\n",
    "\n",
    "            if (sand[0], sand[1]+1) not in occupied_cells:\n",
    "                sand = (sand[0],sand[1]+1)\n",
    "\n",
    "            elif (sand[0]-1, sand[1]+1) not in occupied_cells:\n",
    "                sand = (sand[0]-1,sand[1]+1)\n",
    "\n",
    "            elif (sand[0]+1, sand[1]+1) not in occupied_cells:\n",
    "                sand = (sand[0]+1,sand[1]+1)     \n",
    "\n",
    "            else:\n",
    "                rest = True\n",
    "                occupied_cells.add(sand)\n",
    "                units += 1\n",
    "                if sand == (500,0):\n",
    "                    return units\n",
    "                sand = (500,0)\n",
    "                "
   ]
  },
  {
   "cell_type": "code",
   "execution_count": 9,
   "id": "851bc063",
   "metadata": {},
   "outputs": [],
   "source": [
    "result = falling_sand_2(data) "
   ]
  },
  {
   "cell_type": "code",
   "execution_count": 10,
   "id": "648b9c2d",
   "metadata": {},
   "outputs": [
    {
     "data": {
      "text/plain": [
       "26845"
      ]
     },
     "execution_count": 10,
     "metadata": {},
     "output_type": "execute_result"
    }
   ],
   "source": [
    "result # résultat partie 2"
   ]
  }
 ],
 "metadata": {
  "kernelspec": {
   "display_name": "Python 3 (ipykernel)",
   "language": "python",
   "name": "python3"
  },
  "language_info": {
   "codemirror_mode": {
    "name": "ipython",
    "version": 3
   },
   "file_extension": ".py",
   "mimetype": "text/x-python",
   "name": "python",
   "nbconvert_exporter": "python",
   "pygments_lexer": "ipython3",
   "version": "3.10.9"
  }
 },
 "nbformat": 4,
 "nbformat_minor": 5
}
