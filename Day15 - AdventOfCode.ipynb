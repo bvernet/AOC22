{
 "cells": [
  {
   "cell_type": "code",
   "execution_count": 1,
   "id": "4d3eb58d",
   "metadata": {},
   "outputs": [],
   "source": [
    "with open('Input15') as f:\n",
    "    data = f.read()"
   ]
  },
  {
   "cell_type": "code",
   "execution_count": 2,
   "id": "385c640d",
   "metadata": {},
   "outputs": [],
   "source": [
    "import regex as re"
   ]
  },
  {
   "cell_type": "code",
   "execution_count": 3,
   "id": "86274692",
   "metadata": {},
   "outputs": [],
   "source": [
    "from tqdm import tqdm"
   ]
  },
  {
   "cell_type": "code",
   "execution_count": 4,
   "id": "309a7131",
   "metadata": {},
   "outputs": [],
   "source": [
    "data = data.split('\\n')\n",
    "data.remove('')"
   ]
  },
  {
   "cell_type": "code",
   "execution_count": 5,
   "id": "75a22135",
   "metadata": {},
   "outputs": [],
   "source": [
    "class Sensor:\n",
    "    \n",
    "    def __init__(self, coord: tuple):\n",
    "        \n",
    "        self.xy_s = ( int(coord[0]), int(coord[1]) )\n",
    "        self.xy_b = ( int(coord[2]), int(coord[3]) )"
   ]
  },
  {
   "cell_type": "code",
   "execution_count": 6,
   "id": "1ad06c7e",
   "metadata": {},
   "outputs": [],
   "source": [
    "def list_sensors(data: list) -> list:\n",
    "    \n",
    "    m = re.compile(r\"Sensor at x=([-]?\\d+), y=([-]?\\d+): closest beacon is at x=([-]?\\d+), y=([-]?\\d+)\")\n",
    "    sensors = [Sensor(m.match(l).groups()) for l in data]\n",
    "    \n",
    "    return sensors"
   ]
  },
  {
   "cell_type": "code",
   "execution_count": 7,
   "id": "0cbcda19",
   "metadata": {},
   "outputs": [],
   "source": [
    "def manhattan_distance(pt1 : tuple, pt2: tuple) -> int:\n",
    "    \n",
    "    distance = abs(pt2[0]-pt1[0]) + abs(pt2[1]-pt1[1])\n",
    "    \n",
    "    return distance"
   ]
  },
  {
   "cell_type": "code",
   "execution_count": 8,
   "id": "77a9deef",
   "metadata": {},
   "outputs": [],
   "source": [
    "def no_beacon(y: int, data: list)-> int:\n",
    "    \n",
    "    sensors = list_sensors(data)\n",
    "    \n",
    "    no_beacon = 0\n",
    "        \n",
    "    min_x = min(s.xy_s[0] - manhattan_distance(s.xy_s , s.xy_b) for s in sensors)\n",
    "    max_x = max(s.xy_s[0] + manhattan_distance(s.xy_s , s.xy_b) for s in sensors)\n",
    "    \n",
    "    for x in range(min_x, max_x):\n",
    "        for s in sensors:\n",
    "            if manhattan_distance((x,y), s.xy_s) <= manhattan_distance(s.xy_s, s.xy_b):                \n",
    "                if x != s.xy_b[0] or y != s.xy_b[1]:\n",
    "                    no_beacon += 1\n",
    "                    break\n",
    "                    \n",
    "    return no_beacon"
   ]
  },
  {
   "cell_type": "code",
   "execution_count": 9,
   "id": "f0478be7",
   "metadata": {},
   "outputs": [],
   "source": [
    "result = no_beacon(2000000, data)"
   ]
  },
  {
   "cell_type": "code",
   "execution_count": 10,
   "id": "9257c7d2",
   "metadata": {},
   "outputs": [
    {
     "data": {
      "text/plain": [
       "4883971"
      ]
     },
     "execution_count": 10,
     "metadata": {},
     "output_type": "execute_result"
    }
   ],
   "source": [
    "result # résultat partie 1 : 4'883'971"
   ]
  },
  {
   "cell_type": "code",
   "execution_count": 11,
   "id": "d94825bf",
   "metadata": {},
   "outputs": [],
   "source": [
    "def intersection_droites(d1: tuple, d2: tuple) -> tuple:\n",
    "    \n",
    "    a1 = d1[0]\n",
    "    b1 = d1[1]\n",
    "    a2 = d2[0]\n",
    "    b2 = d2[1]\n",
    "    \n",
    "    if a1 == a2:\n",
    "        return None\n",
    "    \n",
    "    x_1 = int((b2 - b1) / (a1 - a2))\n",
    "    y_1 = a1*x_1 + b1\n",
    "    \n",
    "    x_2 = x_1 + 1\n",
    "    y_2 = a1*x_2 + b1\n",
    "    \n",
    "    x_3 = x_1 - 1\n",
    "    y_3 = a1*x_3 + b1\n",
    "    \n",
    "    return (x_1, y_1), (x_2, y_2), (x_3, y_3)"
   ]
  },
  {
   "cell_type": "code",
   "execution_count": 12,
   "id": "771f1f6e",
   "metadata": {},
   "outputs": [],
   "source": [
    "def droites_par_losange(s: Sensor) -> tuple:\n",
    "    \n",
    "    xs = s.xy_s[0]\n",
    "    ys = s.xy_s[1]\n",
    "    r = manhattan_distance(s.xy_s, s.xy_b)\n",
    "    \n",
    "    a1 = a3 = -1\n",
    "    a2 = a4 = 1\n",
    "    \n",
    "    b1 = ys + xs - r -1\n",
    "    b2 = ys - xs - r -1\n",
    "    b3 = ys + xs + r +1\n",
    "    b4 = ys - xs + r +1\n",
    "    \n",
    "    return (a1, b1), (a2, b2), (a3, b3), (a4, b4)"
   ]
  },
  {
   "cell_type": "code",
   "execution_count": 13,
   "id": "986fa003",
   "metadata": {},
   "outputs": [],
   "source": [
    "def around_intersection(inter: tuple) -> tuple: # plus utilisée\n",
    "    \n",
    "    p1 = (inter[0]+1, inter[1])\n",
    "    p2 = (inter[0], inter[1]+1)\n",
    "    p3 = (inter[0]-1, inter[1])\n",
    "    p4 = (inter[0], inter[1]-1)\n",
    "    \n",
    "    return p1, p2, p3, p4"
   ]
  },
  {
   "cell_type": "code",
   "execution_count": 14,
   "id": "68e860bd",
   "metadata": {},
   "outputs": [],
   "source": [
    "def get_points_to_check(data: list, limit_min : int, limit_max : int) -> list:\n",
    "\n",
    "    points_to_check = set()\n",
    "    sensors = list_sensors(data)\n",
    "\n",
    "    all_droites = []\n",
    "\n",
    "    for sensor in sensors:\n",
    "        d = droites_par_losange(sensor)\n",
    "        for i in range(4):\n",
    "            all_droites.append(d[i])\n",
    "\n",
    "    \n",
    "    for d1 in all_droites:\n",
    "        for d2 in all_droites:\n",
    "            intersection = intersection_droites(d1,d2)\n",
    "            if intersection is not None:  \n",
    "                for inter in intersection:\n",
    "                    if inter[0] >= limit_min and inter[0] <= limit_max and inter[1] >= limit_min and inter[1] <= limit_max:\n",
    "                        points_to_check.add(inter)\n",
    "\n",
    "    return points_to_check"
   ]
  },
  {
   "cell_type": "code",
   "execution_count": 15,
   "id": "9c9e080d",
   "metadata": {},
   "outputs": [],
   "source": [
    "def get_distress_beacon(data: list, lim_min: int, lim_max: int) -> set:\n",
    "    \n",
    "    points_to_check = get_points_to_check(data, lim_min, lim_max)\n",
    "    sensors = list_sensors(data)\n",
    "    distress_beacon = []\n",
    "\n",
    "    not_these_points = set()\n",
    "\n",
    "    for point in points_to_check:\n",
    "        for sensor in sensors:\n",
    "            if manhattan_distance(point, sensor.xy_s) < manhattan_distance(sensor.xy_b, sensor.xy_s) + 1 :\n",
    "                not_these_points.add(point)\n",
    "                \n",
    "    return list(points_to_check.difference(not_these_points))"
   ]
  },
  {
   "cell_type": "code",
   "execution_count": 16,
   "id": "5c3d74e3",
   "metadata": {},
   "outputs": [],
   "source": [
    "def get_result_pt2(data: list, lim_min: int, lim_max: int) -> int:\n",
    "    \n",
    "    coord = get_distress_beacon(data, lim_min, lim_max)\n",
    "    \n",
    "    x = coord[0][0]\n",
    "    y = coord[0][1]\n",
    "    \n",
    "    result = x * 4000000 + y\n",
    "    \n",
    "    return result"
   ]
  },
  {
   "cell_type": "code",
   "execution_count": 17,
   "id": "5952eb5a",
   "metadata": {},
   "outputs": [],
   "source": [
    "result_pt2 = get_result_pt2(data, 0, 4000000)"
   ]
  },
  {
   "cell_type": "code",
   "execution_count": 18,
   "id": "86f9ae27",
   "metadata": {},
   "outputs": [
    {
     "data": {
      "text/plain": [
       "12691026767556"
      ]
     },
     "execution_count": 18,
     "metadata": {},
     "output_type": "execute_result"
    }
   ],
   "source": [
    "result_pt2 # résultat partie 2 : 12691026767556"
   ]
  }
 ],
 "metadata": {
  "kernelspec": {
   "display_name": "Python 3 (ipykernel)",
   "language": "python",
   "name": "python3"
  },
  "language_info": {
   "codemirror_mode": {
    "name": "ipython",
    "version": 3
   },
   "file_extension": ".py",
   "mimetype": "text/x-python",
   "name": "python",
   "nbconvert_exporter": "python",
   "pygments_lexer": "ipython3",
   "version": "3.10.9"
  }
 },
 "nbformat": 4,
 "nbformat_minor": 5
}
